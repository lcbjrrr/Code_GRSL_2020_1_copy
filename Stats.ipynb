{
  "nbformat": 4,
  "nbformat_minor": 0,
  "metadata": {
    "colab": {
      "name": "Stats.ipynb",
      "provenance": [],
      "authorship_tag": "ABX9TyN8d1rFyUFpHx80Z3djhoHq",
      "include_colab_link": true
    },
    "kernelspec": {
      "name": "python3",
      "display_name": "Python 3"
    },
    "language_info": {
      "name": "python"
    }
  },
  "cells": [
    {
      "cell_type": "markdown",
      "metadata": {
        "id": "view-in-github",
        "colab_type": "text"
      },
      "source": [
        "<a href=\"https://colab.research.google.com/github/lcbjrrr/Code_GRSL_2020_1_copy/blob/master/Stats.ipynb\" target=\"_parent\"><img src=\"https://colab.research.google.com/assets/colab-badge.svg\" alt=\"Open In Colab\"/></a>"
      ]
    },
    {
      "cell_type": "code",
      "metadata": {
        "id": "YRQ8apzig3p5"
      },
      "source": [
        ""
      ],
      "execution_count": null,
      "outputs": []
    },
    {
      "cell_type": "markdown",
      "metadata": {
        "id": "bhxH4VyOg4V1"
      },
      "source": [
        "#Py"
      ]
    },
    {
      "cell_type": "code",
      "metadata": {
        "colab": {
          "base_uri": "https://localhost:8080/",
          "height": 143
        },
        "id": "U6GE6S2Sg599",
        "outputId": "4bd8ef29-91d8-412c-b3bf-27a7e553b54e"
      },
      "source": [
        "import pandas as pd\n",
        "notas= pd.read_csv('https://raw.githubusercontent.com/lcbjrrr/quant/master/notas-ok.csv')\n",
        "notas.head(3)"
      ],
      "execution_count": null,
      "outputs": [
        {
          "output_type": "execute_result",
          "data": {
            "text/html": [
              "<div>\n",
              "<style scoped>\n",
              "    .dataframe tbody tr th:only-of-type {\n",
              "        vertical-align: middle;\n",
              "    }\n",
              "\n",
              "    .dataframe tbody tr th {\n",
              "        vertical-align: top;\n",
              "    }\n",
              "\n",
              "    .dataframe thead th {\n",
              "        text-align: right;\n",
              "    }\n",
              "</style>\n",
              "<table border=\"1\" class=\"dataframe\">\n",
              "  <thead>\n",
              "    <tr style=\"text-align: right;\">\n",
              "      <th></th>\n",
              "      <th>AP1</th>\n",
              "      <th>AP2</th>\n",
              "      <th>AP3</th>\n",
              "      <th>Final</th>\n",
              "    </tr>\n",
              "  </thead>\n",
              "  <tbody>\n",
              "    <tr>\n",
              "      <th>0</th>\n",
              "      <td>10.0</td>\n",
              "      <td>10.0</td>\n",
              "      <td>9.0</td>\n",
              "      <td>9.8</td>\n",
              "    </tr>\n",
              "    <tr>\n",
              "      <th>1</th>\n",
              "      <td>9.0</td>\n",
              "      <td>10.0</td>\n",
              "      <td>9.0</td>\n",
              "      <td>9.4</td>\n",
              "    </tr>\n",
              "    <tr>\n",
              "      <th>2</th>\n",
              "      <td>9.5</td>\n",
              "      <td>10.0</td>\n",
              "      <td>10.0</td>\n",
              "      <td>9.8</td>\n",
              "    </tr>\n",
              "  </tbody>\n",
              "</table>\n",
              "</div>"
            ],
            "text/plain": [
              "    AP1   AP2   AP3  Final\n",
              "0  10.0  10.0   9.0    9.8\n",
              "1   9.0  10.0   9.0    9.4\n",
              "2   9.5  10.0  10.0    9.8"
            ]
          },
          "metadata": {},
          "execution_count": 1
        }
      ]
    },
    {
      "cell_type": "code",
      "metadata": {
        "colab": {
          "base_uri": "https://localhost:8080/"
        },
        "id": "yL7UulVvhjS3",
        "outputId": "26aa141e-3dce-4d40-fdcb-8afcc6a3ee72"
      },
      "source": [
        "freq = pd.value_counts(pd.cut(x=notas['Final'],bins=[0,5,7,9,10],labels=['A','B','D','F']))\n",
        "freq"
      ],
      "execution_count": null,
      "outputs": [
        {
          "output_type": "execute_result",
          "data": {
            "text/plain": [
              "D    16\n",
              "A    11\n",
              "F     8\n",
              "B     5\n",
              "Name: Final, dtype: int64"
            ]
          },
          "metadata": {},
          "execution_count": 3
        }
      ]
    },
    {
      "cell_type": "code",
      "metadata": {
        "colab": {
          "base_uri": "https://localhost:8080/",
          "height": 280
        },
        "id": "TNDFyo1Ah-F6",
        "outputId": "8a115a17-9b87-40b0-8416-de20233a6990"
      },
      "source": [
        "freq.plot(kind='bar')"
      ],
      "execution_count": null,
      "outputs": [
        {
          "output_type": "execute_result",
          "data": {
            "text/plain": [
              "<matplotlib.axes._subplots.AxesSubplot at 0x7ff47e4ae0d0>"
            ]
          },
          "metadata": {},
          "execution_count": 5
        },
        {
          "output_type": "display_data",
          "data": {
            "image/png": "[encoded data removed]",
            "text/plain": [
              "<Figure size 432x288 with 1 Axes>"
            ]
          },
          "metadata": {
            "needs_background": "light"
          }
        }
      ]
    },
    {
      "cell_type": "code",
      "metadata": {
        "colab": {
          "base_uri": "https://localhost:8080/",
          "height": 351
        },
        "id": "-i01zGuTiIis",
        "outputId": "714d5330-cc79-4335-f6ab-25038b276753"
      },
      "source": [
        "import seaborn as sns\n",
        "sns.distplot(notas['Final'],bins=[0,5,7,9,10],kde=False)"
      ],
      "execution_count": null,
      "outputs": [
        {
          "output_type": "stream",
          "name": "stderr",
          "text": [
            "/usr/local/lib/python3.7/dist-packages/seaborn/distributions.py:2619: FutureWarning: `distplot` is a deprecated function and will be removed in a future version. Please adapt your code to use either `displot` (a figure-level function with similar flexibility) or `histplot` (an axes-level function for histograms).\n",
            "  warnings.warn(msg, FutureWarning)\n"
          ]
        },
        {
          "output_type": "execute_result",
          "data": {
            "text/plain": [
              "<matplotlib.axes._subplots.AxesSubplot at 0x7ff46cffb590>"
            ]
          },
          "metadata": {},
          "execution_count": 8
        },
        {
          "output_type": "display_data",
          "data": {
            "image/png": "[encoded data removed]",
            "text/plain": [
              "<Figure size 432x288 with 1 Axes>"
            ]
          },
          "metadata": {
            "needs_background": "light"
          }
        }
      ]
    },
    {
      "cell_type": "code",
      "metadata": {
        "colab": {
          "base_uri": "https://localhost:8080/"
        },
        "id": "3RSTlBBsjcnn",
        "outputId": "fa5e9184-4d8c-47aa-9b10-68805bfb0d2c"
      },
      "source": [
        "notas['Final'].describe()"
      ],
      "execution_count": null,
      "outputs": [
        {
          "output_type": "execute_result",
          "data": {
            "text/plain": [
              "count    40.000000\n",
              "mean      7.039000\n",
              "std       1.794613\n",
              "min       4.000000\n",
              "25%       5.000000\n",
              "50%       7.380000\n",
              "75%       7.930000\n",
              "max       9.800000\n",
              "Name: Final, dtype: float64"
            ]
          },
          "metadata": {},
          "execution_count": 18
        }
      ]
    },
    {
      "cell_type": "code",
      "metadata": {
        "colab": {
          "base_uri": "https://localhost:8080/",
          "height": 296
        },
        "id": "z0CvcxDzietk",
        "outputId": "9ce9722e-8d87-4d71-eab0-48a3ebb4132b"
      },
      "source": [
        "sns.boxplot(x='Final',data=notas)"
      ],
      "execution_count": null,
      "outputs": [
        {
          "output_type": "execute_result",
          "data": {
            "text/plain": [
              "<matplotlib.axes._subplots.AxesSubplot at 0x7ff46ce55a10>"
            ]
          },
          "metadata": {},
          "execution_count": 9
        },
        {
          "output_type": "display_data",
          "data": {
            "image/png": "[encoded data removed]",
            "text/plain": [
              "<Figure size 432x288 with 1 Axes>"
            ]
          },
          "metadata": {
            "needs_background": "light"
          }
        }
      ]
    },
    {
      "cell_type": "code",
      "metadata": {
        "colab": {
          "base_uri": "https://localhost:8080/",
          "height": 351
        },
        "id": "Y-LfoHenj1QB",
        "outputId": "52f6125f-cc08-4f34-c608-dff7d366fb1b"
      },
      "source": [
        "sns.scatterplot(notas['AP2'],notas['AP3'])"
      ],
      "execution_count": null,
      "outputs": [
        {
          "output_type": "stream",
          "name": "stderr",
          "text": [
            "/usr/local/lib/python3.7/dist-packages/seaborn/_decorators.py:43: FutureWarning: Pass the following variables as keyword args: x, y. From version 0.12, the only valid positional argument will be `data`, and passing other arguments without an explicit keyword will result in an error or misinterpretation.\n",
            "  FutureWarning\n"
          ]
        },
        {
          "output_type": "execute_result",
          "data": {
            "text/plain": [
              "<matplotlib.axes._subplots.AxesSubplot at 0x7ff458fcf910>"
            ]
          },
          "metadata": {},
          "execution_count": 21
        },
        {
          "output_type": "display_data",
          "data": {
            "image/png": "[encoded data removed]",
            "text/plain": [
              "<Figure size 432x288 with 1 Axes>"
            ]
          },
          "metadata": {
            "needs_background": "light"
          }
        }
      ]
    },
    {
      "cell_type": "markdown",
      "metadata": {
        "id": "dcs2D_jng6kh"
      },
      "source": [
        "# R"
      ]
    },
    {
      "cell_type": "code",
      "metadata": {
        "id": "x0jiuIT2g8Rx"
      },
      "source": [
        "%load_ext rpy2.ipython\n"
      ],
      "execution_count": null,
      "outputs": []
    },
    {
      "cell_type": "code",
      "metadata": {
        "colab": {
          "base_uri": "https://localhost:8080/"
        },
        "id": "U4QvzwCpizeh",
        "outputId": "275b253b-f5b8-426f-ab05-e32f37230b6b"
      },
      "source": [
        "%%R\n",
        "notas <- read.csv('https://raw.githubusercontent.com/lcbjrrr/quant/master/notas-ok.csv')\n",
        "head(notas,3)"
      ],
      "execution_count": null,
      "outputs": [
        {
          "output_type": "stream",
          "name": "stdout",
          "text": [
            "   AP1 AP2 AP3 Final\n",
            "1 10.0  10   9   9.8\n",
            "2  9.0  10   9   9.4\n",
            "3  9.5  10  10   9.8\n"
          ]
        }
      ]
    },
    {
      "cell_type": "code",
      "metadata": {
        "colab": {
          "base_uri": "https://localhost:8080/",
          "height": 497
        },
        "id": "wX7WgShujFBK",
        "outputId": "e8ca884e-2b97-47fd-87bb-3dab88de027d"
      },
      "source": [
        "%%R\n",
        "hist(notas$Final,breaks=c(0,5,7,9,10),freq=T )"
      ],
      "execution_count": null,
      "outputs": [
        {
          "output_type": "display_data",
          "data": {
            "image/png": "[encoded data removed]"
          },
          "metadata": {}
        }
      ]
    },
    {
      "cell_type": "code",
      "metadata": {
        "colab": {
          "base_uri": "https://localhost:8080/"
        },
        "id": "z8Ik9udDjXIK",
        "outputId": "a5e462d5-6af2-4bd6-e3c5-54c840461118"
      },
      "source": [
        "%%R\n",
        "summary(notas$Final)"
      ],
      "execution_count": null,
      "outputs": [
        {
          "output_type": "stream",
          "name": "stdout",
          "text": [
            "   Min. 1st Qu.  Median    Mean 3rd Qu.    Max. \n",
            "  4.000   5.000   7.380   7.039   7.930   9.800 \n"
          ]
        }
      ]
    },
    {
      "cell_type": "code",
      "metadata": {
        "colab": {
          "base_uri": "https://localhost:8080/",
          "height": 497
        },
        "id": "1oHmcqcgjnCJ",
        "outputId": "b323c71d-c4df-4ae8-af40-c84cca97ad91"
      },
      "source": [
        "%%R\n",
        "boxplot(notas$Final)"
      ],
      "execution_count": null,
      "outputs": [
        {
          "output_type": "display_data",
          "data": {
            "image/png": "[encoded data removed]"
          },
          "metadata": {}
        }
      ]
    },
    {
      "cell_type": "code",
      "metadata": {
        "colab": {
          "base_uri": "https://localhost:8080/",
          "height": 497
        },
        "id": "omCL_pzbkMr_",
        "outputId": "26ab678d-382e-4086-e1c9-3bc26a88515b"
      },
      "source": [
        "%%R\n",
        "plot(notas$AP2,notas$AP3)"
      ],
      "execution_count": null,
      "outputs": [
        {
          "output_type": "display_data",
          "data": {
            "image/png": "[encoded data removed]"
          },
          "metadata": {}
        }
      ]
    }
  ]
}